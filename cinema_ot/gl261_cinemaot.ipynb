{
 "cells": [
  {
   "cell_type": "markdown",
   "id": "4b6e0ae0-5d5e-439a-8fec-2267a945c7a9",
   "metadata": {},
   "source": [
    "# CINEMA-OT Analysis of GL261 Data\n",
    "\n",
    "This notebook contains code for generating and plotting a CINEMA-OT synergy analysis. It heavily references the CINEMA-OT tutorial provided by the method authors [here](https://github.com/vandijklab/CINEMA-OT/blob/main/cinemaot_tutorial.ipynb).\n",
    "\n",
    "Inputs:\n",
    "- `adata` objects containing the preprocessed single cell expression data for each of the 3 experimental contexts. These were converted from Seurat objects using the `SeuratDisk` package's `SaveH5Seurat` and `Convert` functions.\n",
    "- Metadata on screening phenotypes for each of the perturbations\n",
    "\n",
    "Outputs:\n",
    "- A synergy plot displaying synergy for each perturbation shared across the 3 contexts"
   ]
  },
  {
   "cell_type": "markdown",
   "id": "98fac54f-d518-420f-9f1b-a4afc47eb8e3",
   "metadata": {},
   "source": [
    "## Setup\n",
    "\n",
    "Running this notebook requires the imported packages and their dependencies to be installed. Just like the others, `cinemaot` can be installed via `pip`. A complete `requirements.txt` for the environment used to run these analyses is provided in the repository as well."
   ]
  },
  {
   "cell_type": "code",
   "execution_count": null,
   "id": "4fa8eb44-7ae0-4de7-8608-3a70f1e23bef",
   "metadata": {},
   "outputs": [],
   "source": [
    "# Imports\n",
    "import numpy as np\n",
    "import scanpy as sc\n",
    "import cinemaot as co\n",
    "from cinemaot import utils\n",
    "import matplotlib.colors as colors\n",
    "import matplotlib.pyplot as plt\n",
    "import pandas as pd\n",
    "import seaborn as sns\n",
    "import sklearn.metrics\n",
    "\n",
    "# Plotting configurations\n",
    "plt.rcParams[\"font.family\"] = \"Arial\"\n",
    "plt.rcParams[\"figure.dpi\"] = 250\n",
    "pd.options.display.max_seq_items = 2000"
   ]
  },
  {
   "cell_type": "markdown",
   "id": "5a41adac-7326-4e38-9293-358531c2d8f8",
   "metadata": {},
   "source": [
    "## Preprocessing"
   ]
  },
  {
   "cell_type": "code",
   "execution_count": null,
   "id": "0f805b1d-079e-41d4-a542-245796335244",
   "metadata": {},
   "outputs": [],
   "source": [
    "# Define constants\n",
    "CONTEXTS = [\"invitro\", \"CED\", \"preinf\"]\n",
    "\n",
    "# Import the data\n",
    "raw_adatas = {}\n",
    "for context in CONTEXTS:\n",
    "    raw_adatas[context] = sc.read_h5ad(f\"input_data/gl261_{context}_preprocessed.h5ad\")"
   ]
  },
  {
   "cell_type": "markdown",
   "id": "9e70aae6-755b-4e1e-9f97-4063c3fcbddf",
   "metadata": {},
   "source": [
    "Run QC on each `adata` object: remove perturb x radiation combinations with low coverage (<= 5 cells), non-targeting guides we don't wish to use, and return an adata object with the processed object."
   ]
  },
  {
   "cell_type": "code",
   "execution_count": null,
   "id": "4bcf0440-11bb-45e9-94b8-8c25754297e3",
   "metadata": {},
   "outputs": [],
   "source": [
    "def run_qc(adata):\n",
    "    adata = adata[~adata.obs[\"sgRNA\"].isin([\"NA\", \"non-targeting_B\"])]\n",
    "    sgRNACond_counts = adata.obs[\"sgRNACond\"].value_counts()\n",
    "    sgRNAConds_to_keep = sgRNACond_counts[sgRNACond_counts > 5].index\n",
    "    cell_count_filtered_data = adata[adata.obs[\"sgRNACond\"].isin(sgRNAConds_to_keep), :]\n",
    "    print(\"Removing \", sgRNACond_counts[sgRNACond_counts <= 5].index)\n",
    "\n",
    "    sgRNAs = pd.unique(cell_count_filtered_data.obs.sgRNA)\n",
    "    sgRNA_conds_in_data = pd.unique(cell_count_filtered_data.obs.sgRNACond)\n",
    "    sgRNAs_to_keep = []\n",
    "    for sgRNA in sgRNAs:\n",
    "        if f\"{sgRNA}_RT\" in sgRNA_conds_in_data and f\"{sgRNA}_noRT\" in sgRNA_conds_in_data:\n",
    "            sgRNAs_to_keep.append(sgRNA)\n",
    "    RT_condition_filtered_data = adata[adata.obs[\"sgRNA\"].isin(sgRNAs_to_keep), :]\n",
    "    return RT_condition_filtered_data"
   ]
  },
  {
   "cell_type": "code",
   "execution_count": null,
   "id": "acf4307c-e2a2-4b30-8734-a57067de87db",
   "metadata": {},
   "outputs": [],
   "source": [
    "adatas = {}\n",
    "for context, adata in raw_adatas.items():\n",
    "    adatas[context] = run_qc(adata)"
   ]
  },
  {
   "cell_type": "markdown",
   "id": "6f8f6572-c508-477c-95ed-93c94bcc9b61",
   "metadata": {},
   "source": [
    "Separate highly variable genes and run PCA on each `adata` object. Visualize the results in UMAP space"
   ]
  },
  {
   "cell_type": "code",
   "execution_count": null,
   "id": "a56fb2ec-1946-44c7-979f-24aae5a781a7",
   "metadata": {},
   "outputs": [],
   "source": [
    "def run_pca_and_plot_umap(adata, context):\n",
    "    sc.pp.highly_variable_genes(adata, min_mean=0.0125, max_mean=3, min_disp=0.5)\n",
    "    adata = adata[:, adata.var.highly_variable]\n",
    "    sc.tl.pca(adata, svd_solver=\"arpack\")\n",
    "    sc.pp.neighbors(adata, n_neighbors=10, n_pcs=40)\n",
    "    sc.tl.umap(adata)\n",
    "    return adata"
   ]
  },
  {
   "cell_type": "code",
   "execution_count": null,
   "id": "021d5077-9cd6-46f5-86a5-edb3bc096f37",
   "metadata": {
    "scrolled": true
   },
   "outputs": [],
   "source": [
    "for context, adata in adatas.items():\n",
    "    adatas[context] = run_pca_and_plot_umap(adata, context)"
   ]
  },
  {
   "cell_type": "markdown",
   "id": "5984dc6d-b249-4bc5-aaf3-601d55ef7988",
   "metadata": {},
   "source": [
    "## CINEMA-OT Analysis"
   ]
  },
  {
   "cell_type": "markdown",
   "id": "05270281-5807-4680-a812-3d1b2a14cd18",
   "metadata": {},
   "source": [
    "For each perturbation in each context, create a synergy score matrix that displays synergy per gene per control cell."
   ]
  },
  {
   "cell_type": "code",
   "execution_count": 10,
   "id": "eab6c135-939b-4003-9f0c-491ab5b41a5f",
   "metadata": {},
   "outputs": [],
   "source": [
    "def find_synergy_matrices(adata):\n",
    "    synergy_matrices = {}\n",
    "    sgRNAs = pd.unique(adata.obs.sgRNA)\n",
    "    for sgRNA in sgRNAs:\n",
    "        if sgRNA == \"non-targeting\":\n",
    "            continue\n",
    "        else:\n",
    "            synergy_matrix = co.cinemaot.synergy(\n",
    "                adata,\n",
    "                \"sgRNACond\",\n",
    "                \"non-targeting_noRT\",\n",
    "                f\"{sgRNA}_noRT\",\n",
    "                \"non-targeting_RT\",\n",
    "                f\"{sgRNA}_RT\",\n",
    "                dim = 10,\n",
    "                thres = 0.5,\n",
    "                smoothness = 1e-3,\n",
    "                eps = 1e-3,\n",
    "                mode = \"parametric\",\n",
    "            )\n",
    "            synergy_matrices[sgRNA] = synergy_matrix\n",
    "    return synergy_matrices"
   ]
  },
  {
   "cell_type": "code",
   "execution_count": null,
   "id": "4dc44cd0-acc4-4e60-bbae-b5e2ca22b064",
   "metadata": {
    "scrolled": true
   },
   "outputs": [],
   "source": [
    "synergy_matrices_by_context = {}\n",
    "for context in CONTEXTS:\n",
    "    adata = adatas[context]\n",
    "    synergy_matrices_by_context[context] = find_synergy_matrices(adata)"
   ]
  },
  {
   "cell_type": "markdown",
   "id": "d9f0bd42-81cb-4601-b93c-3f72390d2787",
   "metadata": {},
   "source": [
    "For each matrix, calculate the L2 norm of synergies for genes whose abs(average synergies) across cells is greater than 0.15."
   ]
  },
  {
   "cell_type": "code",
   "execution_count": null,
   "id": "b0574ed9-9622-4287-859d-311d012e2887",
   "metadata": {},
   "outputs": [],
   "source": [
    "for context in synergy_matrices_by_context:\n",
    "    synergy_matrices = synergy_matrices_by_context[context]\n",
    "    for name, matrix in synergy_matrices.items():\n",
    "        synergyscore = np.linalg.norm(matrix.X[:,np.abs(np.mean(matrix.X,axis=0))>0.15],axis=1)\n",
    "        matrix.obs['synergy_l2_norm_squared'] = synergyscore"
   ]
  },
  {
   "cell_type": "markdown",
   "id": "fcd1ae56-a8ee-4d3b-ba76-1150313c97d7",
   "metadata": {},
   "source": [
    "Plot the perturbations and their synergy scores per cell. Overlay the screening phenotypes on top and compare the three contexts."
   ]
  },
  {
   "cell_type": "code",
   "execution_count": null,
   "id": "bcca4512-9620-4458-9fe2-853326d5bdfd",
   "metadata": {},
   "outputs": [],
   "source": [
    "# Identify the perturbations that are shared between all contexts\n",
    "shared_perturbations = set.intersection(*(set(synergy_matrices.keys()) for _, synergy_matrices in synergy_matrices_by_context.items()))"
   ]
  },
  {
   "cell_type": "code",
   "execution_count": null,
   "id": "a7470e71-d9cf-4cb4-ba07-e6713741da0d",
   "metadata": {},
   "outputs": [],
   "source": [
    "# Construct a series of dataframes that include perturbation, synergy, and context information\n",
    "df_list = []\n",
    "for context, synergy_matrices in synergy_matrices_by_context.items():\n",
    "    for perturbation, adata in synergy_matrices.items():\n",
    "        if perturbation in shared_perturbations:\n",
    "            temp_df = pd.DataFrame({\n",
    "                'Perturbation': perturbation,\n",
    "                'Synergy': adata.obs['synergy_l2_norm'],\n",
    "                'Context': context\n",
    "            })\n",
    "            df_list.append(temp_df)\n",
    "\n",
    "# Concatenate all the data frames\n",
    "combined_df = pd.concat(df_list)"
   ]
  },
  {
   "cell_type": "code",
   "execution_count": null,
   "id": "1ef84a0c-a7a8-4e44-842e-848084a51309",
   "metadata": {},
   "outputs": [],
   "source": [
    "# Create a sorting key so we can sort by the experimental context\n",
    "order = [\"invitro\", \"preinf\", \"CED\"]\n",
    "\n",
    "def sort_key(value):\n",
    "    if value in order:\n",
    "        return order.index(value)\n",
    "    else:\n",
    "        return len(order) + 1\n",
    "\n",
    "# Apply the custom sorting key function to the column and sort by it\n",
    "combined_df = combined_df.iloc[combined_df['Context'].map(sort_key).argsort()]"
   ]
  },
  {
   "cell_type": "code",
   "execution_count": null,
   "id": "3259be81-482b-40d4-922c-0f4a97edda8c",
   "metadata": {},
   "outputs": [],
   "source": [
    "# Import the screen phenotype metadata we want to overlay on top\n",
    "screen_phenotypes = pd.read_csv('screen_phenotypes.txt', sep='\\t')"
   ]
  },
  {
   "cell_type": "code",
   "execution_count": null,
   "id": "836da024-d2a7-495d-8b6a-83bcef82e887",
   "metadata": {},
   "outputs": [],
   "source": [
    "# Plot the synergy values ordered by the median CED L2 norm of synergy\n",
    "median_synergy = combined_df[combined_df['Context'] == 'CED'].groupby('Perturbation')['Synergy'].median().sort_values()\n",
    "perturbation_order = median_synergy.index.tolist()\n",
    "\n",
    "# Create the screening phenotype values\n",
    "screen_phenotype_values = {}\n",
    "for screen_phenotype in ['gamma', 'rho', 'tau']:\n",
    "    values = [screen_phenotypes.at[perturb, screen_phenotype] if perturb in screen_phenotypes.index else 0 for perturb in perturbation_order]\n",
    "    screen_phenotype_values[screen_phenotype] = values\n",
    "\n",
    "# Create a figure and a set of subplots\n",
    "fig, (ax_gamma, ax_rho, ax_tau, ax_violin) = plt.subplots(4, 1, figsize=(15, 8), gridspec_kw={'height_ratios': [1, 1, 1, 4]}, sharex=True)\n",
    "# phenotype_yticks = [-0.2, 0, 0.2]\n",
    "\n",
    "# Create the bar plot with gamma values on the top, then rho and tau\n",
    "bar_width = 1.0\n",
    "ax_gamma.bar(perturbation_order, screen_phenotype_values['gamma'], color=\"gray\", width=bar_width)\n",
    "ax_rho.bar(perturbation_order, screen_phenotype_values['rho'], color=\"gray\", width=bar_width)\n",
    "ax_tau.bar(perturbation_order, screen_phenotype_values['tau'], color=\"gray\", width=bar_width)\n",
    "\n",
    "ax_gamma.set_ylabel(\"Gamma\")\n",
    "ax_rho.set_ylabel(\"Rho\")\n",
    "ax_tau.set_ylabel(\"Tau\")\n",
    "\n",
    "# Create the violin plot with the synergy scores on the bottom\n",
    "sns.violinplot(ax=ax_violin, x='Perturbation', y='Synergy', hue='Context', data=combined_df, \n",
    "               inner=None, bw=0.2, cut=0, scale='width', order=perturbation_order)\n",
    "sns.stripplot(ax=ax_violin, x='Perturbation', y='Synergy', hue = 'Context', data=combined_df, dodge = True, color='k', alpha=0.5, size=0.5, jitter=True, order=perturbation_order)\n",
    "ax_violin.set_ylabel(\"L2-Norm of Synergy\")\n",
    "\n",
    "# Rotate the X-axis labels for better visibility\n",
    "plt.xticks(rotation=90)\n",
    "\n",
    "# Adjust layout for better spacing\n",
    "plt.tight_layout()\n",
    "\n",
    "# Save the figure\n",
    "plt.savefig(f'output_plots/combined_aligned_phenotypes_and_synergy_plot_ordered_by_CED_median_l2Norm.pdf', format='pdf', bbox_inches='tight')\n",
    "\n",
    "# Show the plot\n",
    "plt.show()"
   ]
  }
 ],
 "metadata": {
  "kernelspec": {
   "display_name": "Python (cinema-ot-2)",
   "language": "python",
   "name": "cinema-ot-2"
  },
  "language_info": {
   "codemirror_mode": {
    "name": "ipython",
    "version": 3
   },
   "file_extension": ".py",
   "mimetype": "text/x-python",
   "name": "python",
   "nbconvert_exporter": "python",
   "pygments_lexer": "ipython3",
   "version": "3.9.18"
  }
 },
 "nbformat": 4,
 "nbformat_minor": 5
}
